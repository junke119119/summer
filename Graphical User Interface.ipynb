{
 "cells": [
  {
   "cell_type": "code",
   "execution_count": 1,
   "metadata": {
    "collapsed": true
   },
   "outputs": [],
   "source": [
    "import sys\n",
    "from PyQt4.QtGui import *"
   ]
  },
  {
   "cell_type": "code",
   "execution_count": 2,
   "metadata": {
    "collapsed": false
   },
   "outputs": [
    {
     "ename": "SystemExit",
     "evalue": "0",
     "output_type": "error",
     "traceback": [
      "An exception has occurred, use %tb to see the full traceback.\n",
      "\u001b[1;31mSystemExit\u001b[0m\u001b[1;31m:\u001b[0m 0\n"
     ]
    },
    {
     "name": "stderr",
     "output_type": "stream",
     "text": [
      "To exit: use 'exit', 'quit', or Ctrl-D.\n"
     ]
    }
   ],
   "source": [
    "# Create an PyQT4 application object.\n",
    "a = QApplication(sys.argv)\n",
    " \n",
    "# The QWidget widget is the base class of all user interface objects in PyQt4.\n",
    "w = QMainWindow()\n",
    "\n",
    "# Set window size.\n",
    "w.resize(700, 800)\n",
    " \n",
    "# Set window title\n",
    "w.setWindowTitle(\"RMR Calculator\")\n",
    "\n",
    "# Create main menu\n",
    "mainMenu = w.menuBar()\n",
    "mainMenu.setNativeMenuBar(False)\n",
    "fileMenu = mainMenu.addMenu('File')\n",
    "\n",
    "# Add exit button\n",
    "exitButton = QAction(QIcon('exit24.png'), 'Exit', w)\n",
    "exitButton.setShortcut('Ctrl+Q')\n",
    "exitButton.setStatusTip('Exit application')\n",
    "exitButton.triggered.connect(w.close)\n",
    "fileMenu.addAction(exitButton)\n",
    "\n",
    "# Show window\n",
    "w.show()\n",
    " \n",
    "sys.exit(a.exec_())"
   ]
  },
  {
   "cell_type": "code",
   "execution_count": null,
   "metadata": {
    "collapsed": true
   },
   "outputs": [],
   "source": []
  },
  {
   "cell_type": "code",
   "execution_count": null,
   "metadata": {
    "collapsed": true
   },
   "outputs": [],
   "source": [
    "\n",
    "# Add a button\n",
    "btn = QPushButton('Hello World!', w)\n",
    "btn.setToolTip('Click to quit!')\n",
    "btn.clicked.connect(exit)\n",
    "btn.resize(btn.sizeHint())\n",
    "btn.move(100, 80)"
   ]
  },
  {
   "cell_type": "code",
   "execution_count": null,
   "metadata": {
    "collapsed": true
   },
   "outputs": [],
   "source": []
  }
 ],
 "metadata": {
  "kernelspec": {
   "display_name": "Python 3",
   "language": "python",
   "name": "python3"
  },
  "language_info": {
   "codemirror_mode": {
    "name": "ipython",
    "version": 3
   },
   "file_extension": ".py",
   "mimetype": "text/x-python",
   "name": "python",
   "nbconvert_exporter": "python",
   "pygments_lexer": "ipython3",
   "version": "3.5.1"
  }
 },
 "nbformat": 4,
 "nbformat_minor": 0
}
