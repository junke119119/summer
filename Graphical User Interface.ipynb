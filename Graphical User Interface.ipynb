{
 "cells": [
  {
   "cell_type": "code",
   "execution_count": null,
   "metadata": {
    "collapsed": true
   },
   "outputs": [],
   "source": []
  },
  {
   "cell_type": "code",
   "execution_count": 1,
   "metadata": {
    "collapsed": false
   },
   "outputs": [
    {
     "name": "stdout",
     "output_type": "stream",
     "text": [
      "\n"
     ]
    },
    {
     "ename": "NameError",
     "evalue": "name 'QMessageBox' is not defined",
     "output_type": "error",
     "traceback": [
      "\u001b[1;31m---------------------------------------------------------------------------\u001b[0m",
      "\u001b[1;31mNameError\u001b[0m                                 Traceback (most recent call last)",
      "\u001b[1;32m<ipython-input-1-1bfc8d8e9de5>\u001b[0m in \u001b[0;36mcalculate_RMR\u001b[1;34m(self)\u001b[0m\n\u001b[0;32m     71\u001b[0m             \u001b[0mmsg\u001b[0m\u001b[1;33m.\u001b[0m\u001b[0msetInformativeText\u001b[0m\u001b[1;33m(\u001b[0m\u001b[1;34m\"You have to select the data file first in order to calculate.\"\u001b[0m\u001b[1;33m)\u001b[0m\u001b[1;33m\u001b[0m\u001b[0m\n\u001b[0;32m     72\u001b[0m             \u001b[0mmsg\u001b[0m\u001b[1;33m.\u001b[0m\u001b[0msetWindowTitle\u001b[0m\u001b[1;33m(\u001b[0m\u001b[1;34m\"Warning\"\u001b[0m\u001b[1;33m)\u001b[0m\u001b[1;33m\u001b[0m\u001b[0m\n\u001b[1;32m---> 73\u001b[1;33m             \u001b[0mmsg\u001b[0m\u001b[1;33m.\u001b[0m\u001b[0msetStandardButtons\u001b[0m\u001b[1;33m(\u001b[0m\u001b[0mQMessageBox\u001b[0m\u001b[1;33m.\u001b[0m\u001b[0mOK\u001b[0m\u001b[1;33m)\u001b[0m\u001b[1;33m\u001b[0m\u001b[0m\n\u001b[0m\u001b[0;32m     74\u001b[0m             \u001b[0mmsg\u001b[0m\u001b[1;33m.\u001b[0m\u001b[0mbuttonClicked\u001b[0m\u001b[1;33m.\u001b[0m\u001b[0mconnect\u001b[0m\u001b[1;33m(\u001b[0m\u001b[0mmsg\u001b[0m\u001b[1;33m.\u001b[0m\u001b[0mclose\u001b[0m\u001b[1;33m)\u001b[0m\u001b[1;33m\u001b[0m\u001b[0m\n\u001b[0;32m     75\u001b[0m \u001b[1;33m\u001b[0m\u001b[0m\n",
      "\u001b[1;31mNameError\u001b[0m: name 'QMessageBox' is not defined"
     ]
    },
    {
     "ename": "SystemExit",
     "evalue": "0",
     "output_type": "error",
     "traceback": [
      "An exception has occurred, use %tb to see the full traceback.\n",
      "\u001b[1;31mSystemExit\u001b[0m\u001b[1;31m:\u001b[0m 0\n"
     ]
    },
    {
     "name": "stderr",
     "output_type": "stream",
     "text": [
      "To exit: use 'exit', 'quit', or Ctrl-D.\n"
     ]
    }
   ],
   "source": [
    "import sys\n",
    "from PyQt4.QtCore import pyqtSlot\n",
    "from PyQt4 import QtGui, QtCore\n",
    "import glob, openpyxl, pandas as pd, numpy as np\n",
    "from datetime import datetime, timedelta\n",
    "\n",
    "class Window(QtGui.QMainWindow):\n",
    "\n",
    "    def __init__(self):\n",
    "        \n",
    "        super(Window, self).__init__()\n",
    "        self.setGeometry(50, 50, 500, 700)\n",
    "        self.setWindowTitle(\"RMR Calculator\")\n",
    "\n",
    "        extractAction = QtGui.QAction(\"Quit\", self)\n",
    "        extractAction.setShortcut(\"Ctrl+Q\")\n",
    "        extractAction.setStatusTip('Quit The App')\n",
    "        extractAction.triggered.connect(self.close)\n",
    "\n",
    "        self.statusBar()\n",
    "\n",
    "        mainMenu = self.menuBar()\n",
    "        \n",
    "        fileMenu = mainMenu.addMenu('&File')\n",
    "        fileMenu.addAction(extractAction)\n",
    "\n",
    "        self.home()\n",
    "\n",
    "    def home(self):\n",
    "        \n",
    "        # Create textbox\n",
    "        self.textbox = QtGui.QLineEdit(self)\n",
    "        self.textbox.move(130,80)\n",
    "        self.textbox.resize(300, 20)\n",
    "        \n",
    "        # Create a button in the window\n",
    "        self.btn = QtGui.QPushButton(\"Select File\", self)\n",
    "        self.btn.clicked.connect(self.select_file)\n",
    "        self.btn.move(20,80)\n",
    "        self.btn.resize(100,20)\n",
    "        \n",
    "        self.btn = QtGui.QPushButton(\"Calculate RMR\", self)\n",
    "        self.btn.clicked.connect(self.calculate_RMR)\n",
    "        self.btn.move(320, 120)\n",
    "        self.btn.resize(100,20)\n",
    "        \n",
    "        self.show()\n",
    "\n",
    "    def select_file(self):\n",
    "        fileName = QtGui.QFileDialog.getOpenFileName(self, 'Select File','*.xlsx')\n",
    "        self.textbox.setText(fileName)\n",
    "    \n",
    "    def calculate_RMR(self):\n",
    "        \n",
    "        def create_dataframe():\n",
    "            columns = ['Patient ID', 'Age', 'Sex','Height (in)', 'Height (cm)', 'Weight (Ib)',\n",
    "           'Weight (kg)', 'Time (min)', 'VO2/kg STPD (ml/kg/m)', 'VO2 STPD (L/min)',\n",
    "          '(ml/min)', 'VCO2 STPD (L/min)', '(ml/min)', 'VE STPD (L/min)', 'RQ', \n",
    "           'RR (BPM)', 'VE/VO2 (BT/ST)', 'METS', 'TM SPD(mph)', 'Start','End']\n",
    "            df = pd.DataFrame(columns = columns)\n",
    "            return df\n",
    "\n",
    "        filename = self.textbox.text()\n",
    "        print(filename)\n",
    "        if filename:\n",
    "            print(\"if\")\n",
    "            df = create_dataframe()\n",
    "            print(df)\n",
    "        else:\n",
    "            msg = QtGui.QMessageBox()\n",
    "            msg.setInformativeText(\"You have to select the data file first in order to calculate.\")\n",
    "            msg.setWindowTitle(\"Warning\")\n",
    "            msg.setStandardButtons(QMessageBox.OK)\n",
    "            msg.buttonClicked.connect(msg.close)\n",
    "    \n",
    "\n",
    "def run():\n",
    "    app = QtGui.QApplication(sys.argv)\n",
    "    GUI = Window()\n",
    "    sys.exit(app.exec_())\n",
    "\n",
    "\n",
    "run()     "
   ]
  },
  {
   "cell_type": "code",
   "execution_count": null,
   "metadata": {
    "collapsed": true
   },
   "outputs": [],
   "source": []
  },
  {
   "cell_type": "code",
   "execution_count": null,
   "metadata": {
    "collapsed": true
   },
   "outputs": [],
   "source": []
  }
 ],
 "metadata": {
  "kernelspec": {
   "display_name": "Python 3",
   "language": "python",
   "name": "python3"
  },
  "language_info": {
   "codemirror_mode": {
    "name": "ipython",
    "version": 3
   },
   "file_extension": ".py",
   "mimetype": "text/x-python",
   "name": "python",
   "nbconvert_exporter": "python",
   "pygments_lexer": "ipython3",
   "version": "3.5.1"
  }
 },
 "nbformat": 4,
 "nbformat_minor": 0
}
