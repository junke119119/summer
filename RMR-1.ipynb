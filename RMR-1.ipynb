{
 "cells": [
  {
   "cell_type": "markdown",
   "metadata": {},
   "source": [
    "## RMR data analysis\n",
    "updated: 5-23-2016"
   ]
  },
  {
   "cell_type": "code",
   "execution_count": 3,
   "metadata": {
    "collapsed": false
   },
   "outputs": [],
   "source": [
    "import numpy as np\n",
    "import pandas as pd\n",
    "\n",
    "#import pyvot\n",
    "\n",
    "## Package to Read Excel Worksheet\n",
    "import xlrd "
   ]
  },
  {
   "cell_type": "code",
   "execution_count": 4,
   "metadata": {
    "collapsed": false
   },
   "outputs": [],
   "source": [
    "import glob\n",
    "\n",
    "## Obtain File lists \n",
    "path = 'P:\\\\Metabolic Test\\\\RMR\\\\src\\\\Processed Files\\\\Checked\\\\'\n",
    "all_files = glob.glob(path + \"*.xlsx\")\n"
   ]
  },
  {
   "cell_type": "code",
   "execution_count": null,
   "metadata": {
    "collapsed": false
   },
   "outputs": [],
   "source": [
    "book = xlrd.open_workbook('P:\\\\Metabolic Test\\\\RMR\\\\src\\\\Processed Files\\\\Checked\\\\Albani.Teresa_4.2.2015_xls_copy.xls',formatting_info=True)\n",
    "sheets = book.sheet_names()\n",
    "sheet = book.sheet_by_index(0)\n",
    "print(sheet.name)\n",
    "rows, cols = sheet.nrows, sheet.ncols\n",
    "print(\"Number of rows: %s   Number of cols: %s\" % (rows, cols))\n",
    "thecell = sheet.cell(0,0)\n",
    "print(thecell.value)\n",
    "xfx = sheet.cell_xf_index(0,0)\n",
    "xf = book.xf_list[xfx]\n",
    "bgx = xf.background.pattern_colour_index\n",
    "print(bgx)"
   ]
  },
  {
   "cell_type": "code",
   "execution_count": null,
   "metadata": {
    "collapsed": false
   },
   "outputs": [],
   "source": []
  },
  {
   "cell_type": "code",
   "execution_count": 34,
   "metadata": {
    "collapsed": false
   },
   "outputs": [
    {
     "name": "stdout",
     "output_type": "stream",
     "text": [
      "['Sheet1', 'Subject Report']\n",
      "228\n",
      "21\n"
     ]
    },
    {
     "data": {
      "text/plain": [
       "'University of Pittsburgh'"
      ]
     },
     "execution_count": 34,
     "metadata": {},
     "output_type": "execute_result"
    }
   ],
   "source": [
    "import openpyxl\n",
    "wb = openpyxl.load_workbook(all_files[0],use_iterators = True)\n",
    "print(wb.get_sheet_names())\n",
    "sheet = wb.get_sheet_by_name(name = 'Sheet1')\n",
    "print(sheet.max_row)\n",
    "print(sheet.max_column)\n",
    "sheet[\"A1\"].value\n",
    "\n",
    "\n",
    "\n",
    "\n",
    "#.fill.start_color.index\n"
   ]
  },
  {
   "cell_type": "code",
   "execution_count": null,
   "metadata": {
    "collapsed": true
   },
   "outputs": [],
   "source": [
    "c1 = sheet[\"A1\"]\n",
    "c1.font.color.rgb\n",
    "\n",
    "c2 = sheet[\"A1\"]\n",
    "c2.font.color.rgb\n"
   ]
  },
  {
   "cell_type": "code",
   "execution_count": null,
   "metadata": {
    "collapsed": true
   },
   "outputs": [],
   "source": []
  },
  {
   "cell_type": "code",
   "execution_count": null,
   "metadata": {
    "collapsed": true
   },
   "outputs": [],
   "source": []
  },
  {
   "cell_type": "code",
   "execution_count": null,
   "metadata": {
    "collapsed": true
   },
   "outputs": [],
   "source": []
  },
  {
   "cell_type": "code",
   "execution_count": null,
   "metadata": {
    "collapsed": true
   },
   "outputs": [],
   "source": []
  },
  {
   "cell_type": "code",
   "execution_count": null,
   "metadata": {
    "collapsed": true
   },
   "outputs": [],
   "source": []
  },
  {
   "cell_type": "code",
   "execution_count": null,
   "metadata": {
    "collapsed": true
   },
   "outputs": [],
   "source": []
  },
  {
   "cell_type": "code",
   "execution_count": null,
   "metadata": {
    "collapsed": true
   },
   "outputs": [],
   "source": []
  },
  {
   "cell_type": "code",
   "execution_count": null,
   "metadata": {
    "collapsed": true
   },
   "outputs": [],
   "source": []
  },
  {
   "cell_type": "code",
   "execution_count": null,
   "metadata": {
    "collapsed": true
   },
   "outputs": [],
   "source": []
  },
  {
   "cell_type": "code",
   "execution_count": null,
   "metadata": {
    "collapsed": true
   },
   "outputs": [],
   "source": []
  },
  {
   "cell_type": "code",
   "execution_count": null,
   "metadata": {
    "collapsed": true
   },
   "outputs": [],
   "source": []
  },
  {
   "cell_type": "code",
   "execution_count": null,
   "metadata": {
    "collapsed": true
   },
   "outputs": [],
   "source": [
    "https://automatetheboringstuff.com/chapter12/"
   ]
  },
  {
   "cell_type": "code",
   "execution_count": null,
   "metadata": {
    "collapsed": true
   },
   "outputs": [],
   "source": [
    "http://stackoverflow.com/questions/30483649/python-openpyxl-how-to-read-a-cell-font-color"
   ]
  },
  {
   "cell_type": "code",
   "execution_count": null,
   "metadata": {
    "collapsed": false
   },
   "outputs": [],
   "source": [
    "\n",
    "import xlrd \n",
    "book = xlrd.open_workbook(\"xlrd-test.xls\", formatting_info=1) \n",
    "sheets = book.sheet_names() \n",
    "for index, sh in enumerate(sheets): \n",
    "    sheet = book.sheet_by_index(index) \n",
    "    rows, cols = sheet.nrows, sheet.ncols \n",
    "    for row in range(rows): \n",
    "        for col in range(cols): \n",
    "            print \"row, col:\", row+1, col+1, \n",
    "            thecell = sheet.cell(row, col)      # could get 'dump', \n",
    "'value', 'xf_index' \n",
    "            xfx = sheet.cell_xf_index(row, col) \n",
    "            xf = book.xf_list[xfx] \n",
    "            bgx = xf.background.pattern_colour_index \n",
    "            print \"  idx:\",bgx, \n",
    "            rgb = book.colour_map[bgx] \n",
    "            print \"  RGB:\",rgb \n"
   ]
  },
  {
   "cell_type": "code",
   "execution_count": null,
   "metadata": {
    "collapsed": false
   },
   "outputs": [],
   "source": [
    "\n",
    "data = pd.read_excel(path + 'Arnt_Lachelle_8.14.2015.xlsx', 'Sheet1')"
   ]
  },
  {
   "cell_type": "code",
   "execution_count": null,
   "metadata": {
    "collapsed": false
   },
   "outputs": [],
   "source": [
    "data"
   ]
  },
  {
   "cell_type": "code",
   "execution_count": null,
   "metadata": {
    "collapsed": true
   },
   "outputs": [],
   "source": [
    "\n",
    "\n",
    "sheets = book.sheet_names()\n",
    "print \"sheets are:\", sheets\n",
    "for index, sh in enumerate(sheets):\n",
    "    sheet = book.sheet_by_index(index)\n",
    "    print \"Sheet:\", sheet.name\n",
    "    rows, cols = sheet.nrows, sheet.ncols\n",
    "    print \"Number of rows: %s   Number of cols: %s\" % (rows, cols)\n",
    "    for row in range(rows):\n",
    "        for col in range(cols):\n",
    "            print \"row, col is:\", row+1, col+1,\n",
    "            thecell = sheet.cell(row, col)      \n",
    "            # could get 'dump', 'value', 'xf_index'\n",
    "            print thecell.value,\n",
    "            xfx = sheet.cell_xf_index(row, col)\n",
    "            xf = book.xf_list[xfx]\n",
    "            bgx = xf.background.pattern_colour_index\n",
    "            print bgx\n"
   ]
  },
  {
   "cell_type": "code",
   "execution_count": null,
   "metadata": {
    "collapsed": true
   },
   "outputs": [],
   "source": [
    "def add(x,y):\n",
    "    out = x + y\n",
    "    for i in np.arange(10):\n",
    "        print(i)\n",
    "    return out"
   ]
  }
 ],
 "metadata": {
  "kernelspec": {
   "display_name": "Python 3",
   "language": "python",
   "name": "python3"
  },
  "language_info": {
   "codemirror_mode": {
    "name": "ipython",
    "version": 3
   },
   "file_extension": ".py",
   "mimetype": "text/x-python",
   "name": "python",
   "nbconvert_exporter": "python",
   "pygments_lexer": "ipython3",
   "version": "3.5.1"
  }
 },
 "nbformat": 4,
 "nbformat_minor": 0
}
