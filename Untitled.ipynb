{
 "cells": [
  {
   "cell_type": "markdown",
   "metadata": {},
   "source": [
    "RMR data analysis\n",
    "Prepare dataset\n",
    "updated: 05/25/16"
   ]
  },
  {
   "cell_type": "code",
   "execution_count": 70,
   "metadata": {
    "collapsed": true
   },
   "outputs": [],
   "source": [
    "import glob, openpyxl, pandas as pd, numpy as np"
   ]
  },
  {
   "cell_type": "code",
   "execution_count": 160,
   "metadata": {
    "collapsed": false
   },
   "outputs": [],
   "source": [
    "## Function to read patient's information\n",
    "def get_Patient_Info(sheet,data):\n",
    "    \n",
    "    # Create a list to save patient's information\n",
    "    item = []\n",
    "    \n",
    "    # Read cell values in row 7 to the list\n",
    "    for col in range(1,8):\n",
    "        value = sheet.cell(row = 7,column = col).value\n",
    "        if value is not None:\n",
    "            if is_number(value):\n",
    "                item.append(value)\n",
    "            if (value == 'F' or value == 'M'):\n",
    "                item.append(value)\n",
    "          \n",
    "    # Read cell values in row 8 to the list\n",
    "    for col in range(1,13):\n",
    "        value = sheet.cell(row = 8,column = col).value\n",
    "        if value is not None:\n",
    "                if is_number(value):\n",
    "                    item.append(value)\n",
    "   \n",
    "    # Create a new list to save patient information \n",
    "    data = append_Multi_Item(data,item)\n",
    "    print(data)\n",
    "    \n",
    "    return data"
   ]
  },
  {
   "cell_type": "code",
   "execution_count": 151,
   "metadata": {
    "collapsed": false
   },
   "outputs": [],
   "source": [
    "## Function to append multiple item in a item list \n",
    "def append_Multi_Item(data, itemList):\n",
    "    for i in range(0,(len(itemList))):\n",
    "        data.append(itemList[i])\n",
    "    return data"
   ]
  },
  {
   "cell_type": "code",
   "execution_count": 152,
   "metadata": {
    "collapsed": true
   },
   "outputs": [],
   "source": [
    "## Function to check the value is numeric or not\n",
    "def is_number(s):\n",
    "    try:\n",
    "        float(s)\n",
    "        return True\n",
    "    except ValueError:\n",
    "        return False"
   ]
  },
  {
   "cell_type": "code",
   "execution_count": null,
   "metadata": {
    "collapsed": true
   },
   "outputs": [],
   "source": [
    "## Function to get raw data\n",
    "def get_raw_data():"
   ]
  },
  {
   "cell_type": "code",
   "execution_count": null,
   "metadata": {
    "collapsed": true
   },
   "outputs": [],
   "source": [
    "## Function to get yellow region index\n",
    "def get_yellow_index():\n",
    "    \n",
    "    # Create a list to save the index\n",
    "    index_list = []\n",
    "    \n",
    "    \n",
    "    \n",
    "    return index_list"
   ]
  },
  {
   "cell_type": "code",
   "execution_count": 122,
   "metadata": {
    "collapsed": false
   },
   "outputs": [],
   "source": [
    "## Obtain File Lists\n",
    "path = 'P:\\\\Metabolic Test\\\\RMR\\\\src\\\\Processed Files\\\\Checked\\\\'\n",
    "all_files = glob.glob(path + \"*.xlsx\")"
   ]
  },
  {
   "cell_type": "code",
   "execution_count": 123,
   "metadata": {
    "collapsed": false
   },
   "outputs": [
    {
     "data": {
      "text/html": [
       "<div>\n",
       "<table border=\"1\" class=\"dataframe\">\n",
       "  <thead>\n",
       "    <tr style=\"text-align: right;\">\n",
       "      <th></th>\n",
       "      <th>Patient ID</th>\n",
       "      <th>Age</th>\n",
       "      <th>Sex</th>\n",
       "      <th>Height (in)</th>\n",
       "      <th>Height (cm)</th>\n",
       "      <th>Weight (Ib)</th>\n",
       "      <th>Weight (kg)</th>\n",
       "      <th>Time (min)</th>\n",
       "      <th>VO2/kg STPD (ml/kg/m)</th>\n",
       "      <th>VO2 STPD (L/min)</th>\n",
       "      <th>...</th>\n",
       "      <th>VCO2 STPD (L/min)</th>\n",
       "      <th>(ml/min)</th>\n",
       "      <th>VE STPD (L/min)</th>\n",
       "      <th>RQ</th>\n",
       "      <th>RR (BPM)</th>\n",
       "      <th>VE/VO2 (BT/ST)</th>\n",
       "      <th>METS</th>\n",
       "      <th>TM SPD(mph)</th>\n",
       "      <th>Start</th>\n",
       "      <th>End</th>\n",
       "    </tr>\n",
       "  </thead>\n",
       "  <tbody>\n",
       "  </tbody>\n",
       "</table>\n",
       "<p>0 rows × 21 columns</p>\n",
       "</div>"
      ],
      "text/plain": [
       "Empty DataFrame\n",
       "Columns: [Patient ID, Age, Sex, Height (in), Height (cm), Weight (Ib), Weight (kg), Time (min), VO2/kg STPD (ml/kg/m), VO2 STPD (L/min), (ml/min), VCO2 STPD (L/min), (ml/min), VE STPD (L/min), RQ, RR (BPM), VE/VO2 (BT/ST), METS, TM SPD(mph), Start, End]\n",
       "Index: []\n",
       "\n",
       "[0 rows x 21 columns]"
      ]
     },
     "execution_count": 123,
     "metadata": {},
     "output_type": "execute_result"
    }
   ],
   "source": [
    "## Create Pandas dataframe\n",
    "columns = ['Patient ID', 'Age', 'Sex','Height (in)', 'Height (cm)', 'Weight (Ib)',\n",
    "           'Weight (kg)', 'Time (min)', 'VO2/kg STPD (ml/kg/m)', 'VO2 STPD (L/min)',\n",
    "          '(ml/min)', 'VCO2 STPD (L/min)', '(ml/min)', 'VE STPD (L/min)', 'RQ', \n",
    "           'RR (BPM)', 'VE/VO2 (BT/ST)', 'METS', 'TM SPD(mph)', 'Start','End']\n",
    "df = pd.DataFrame(columns = columns)\n",
    "df"
   ]
  },
  {
   "cell_type": "code",
   "execution_count": 66,
   "metadata": {
    "collapsed": false
   },
   "outputs": [
    {
     "ename": "IndentationError",
     "evalue": "unexpected indent (<ipython-input-66-f42f5949ce4a>, line 3)",
     "output_type": "error",
     "traceback": [
      "\u001b[1;36m  File \u001b[1;32m\"<ipython-input-66-f42f5949ce4a>\"\u001b[1;36m, line \u001b[1;32m3\u001b[0m\n\u001b[1;33m    i = 1\u001b[0m\n\u001b[1;37m    ^\u001b[0m\n\u001b[1;31mIndentationError\u001b[0m\u001b[1;31m:\u001b[0m unexpected indent\n"
     ]
    }
   ],
   "source": [
    "## Read Excel Files\n",
    "for i in range(0,len(all_files)):\n",
    "\n",
    "    # Patient ID\n",
    "    idNumber = i\n",
    "    \n",
    "    # Initiation of a data list for row in dataframe\n",
    "    data = [idNumber]\n",
    "    \n",
    "    # open excel work book and sheet1\n",
    "    wb = openpyxl.load_workbook(all_files[i], use_iterators= True)\n",
    "    sheet = wb.get_sheet_by_name(name = 'Sheet1')\n",
    "    \n",
    "    # Call function to update data list with age, sex, height and weight\n",
    "    data = get_Patient_Info(sheet, data)\n",
    "    "
   ]
  },
  {
   "cell_type": "code",
   "execution_count": null,
   "metadata": {
    "collapsed": true
   },
   "outputs": [],
   "source": []
  },
  {
   "cell_type": "code",
   "execution_count": null,
   "metadata": {
    "collapsed": true
   },
   "outputs": [],
   "source": []
  },
  {
   "cell_type": "code",
   "execution_count": null,
   "metadata": {
    "collapsed": true
   },
   "outputs": [],
   "source": []
  },
  {
   "cell_type": "code",
   "execution_count": 161,
   "metadata": {
    "collapsed": false
   },
   "outputs": [
    {
     "name": "stdout",
     "output_type": "stream",
     "text": [
      "[0]\n"
     ]
    },
    {
     "data": {
      "text/plain": [
       "'P:\\\\Metabolic Test\\\\RMR\\\\src\\\\Processed Files\\\\Checked\\\\Albani.Teresa_4.2.2015.xlsx'"
      ]
     },
     "execution_count": 161,
     "metadata": {},
     "output_type": "execute_result"
    }
   ],
   "source": [
    "i = 0\n",
    "# Patient ID\n",
    "idNumber = i\n",
    "\n",
    "data = [idNumber]\n",
    "\n",
    "print(data)\n",
    "# open excel work book and sheet1\n",
    "wb = openpyxl.load_workbook(all_files[i], use_iterators= True)\n",
    "sheet = wb.get_sheet_by_name(name = 'Sheet1')\n",
    "\n",
    "all_files[i]"
   ]
  },
  {
   "cell_type": "code",
   "execution_count": 162,
   "metadata": {
    "collapsed": false
   },
   "outputs": [
    {
     "name": "stdout",
     "output_type": "stream",
     "text": [
      "[0, 46, 'F', 67, 170.17999267578125, 186.38099670410156, 84.71863555908203]\n",
      "[0, 46, 'F', 67, 170.17999267578125, 186.38099670410156, 84.71863555908203]\n"
     ]
    },
    {
     "data": {
      "text/plain": [
       "[0, 46, 'F', 67, 170.17999267578125, 186.38099670410156, 84.71863555908203]"
      ]
     },
     "execution_count": 162,
     "metadata": {},
     "output_type": "execute_result"
    }
   ],
   "source": [
    "patientInfo = []\n",
    "patientInfo = get_Patient_Info(sheet,data)\n",
    "\n",
    "print(patientInfo)\n",
    "\n",
    "\n",
    "data"
   ]
  },
  {
   "cell_type": "code",
   "execution_count": null,
   "metadata": {
    "collapsed": true
   },
   "outputs": [],
   "source": []
  },
  {
   "cell_type": "code",
   "execution_count": null,
   "metadata": {
    "collapsed": true
   },
   "outputs": [],
   "source": []
  },
  {
   "cell_type": "code",
   "execution_count": null,
   "metadata": {
    "collapsed": true
   },
   "outputs": [],
   "source": []
  },
  {
   "cell_type": "code",
   "execution_count": 7,
   "metadata": {
    "collapsed": false
   },
   "outputs": [
    {
     "name": "stdout",
     "output_type": "stream",
     "text": [
      "['Sheet1', 'Subject Report']\n",
      "228\n",
      "21\n",
      "['Sheet1', 'Subject Report']\n",
      "228\n",
      "21\n",
      "University of Pittsburgh\n",
      "00000000\n",
      "FFFFFF00\n"
     ]
    }
   ],
   "source": [
    "\n",
    "wb = openpyxl.load_workbook(all_files[0],use_iterators = True)\n",
    "print(wb.get_sheet_names())\n",
    "sheet = wb.get_sheet_by_name(name = 'Sheet1')\n",
    "print(sheet.max_row)\n",
    "print(sheet.max_column)\n",
    "sheet[\"A1\"].value\n",
    "\n",
    "import openpyxl\n",
    "wb = openpyxl.load_workbook(all_files[0],use_iterators = True)\n",
    "print(wb.get_sheet_names())\n",
    "sheet = wb.get_sheet_by_name(name = 'Sheet1')\n",
    "print(sheet.max_row)\n",
    "print(sheet.max_column)\n",
    "print(sheet[\"A1\"].value)\n",
    "\n",
    "c1 = sheet[\"A5\"]\n",
    "i = c1.fill.start_color.index\n",
    "print(i)\n",
    "\n",
    "c2 = sheet[\"A73\"]\n",
    "j = c2.fill.start_color.index\n",
    "print(j)\n"
   ]
  },
  {
   "cell_type": "code",
   "execution_count": null,
   "metadata": {
    "collapsed": false
   },
   "outputs": [],
   "source": [
    "df2 = pd.DataFrame([p,p,p,p,p,p,p,p,p,p,p,p,p,p,p,p,p,p,p,p,p], columns = columns)\n",
    "df = df.append(df2)\n",
    "d = {}\n",
    "d[\"PatientID\"] = 1\n",
    "d[\"Time (min)\"] = 2\n",
    "\n",
    "names = [\"Nick\", \"Alice\", \"Kitty\"]\n",
    "professions = [\"Programmer\", \"Engineer\", \"Art Therapist\"]\n",
    "professions_dict = {}\n",
    "for i in range(len(names)):\n",
    "    professions_dict[names[i]] = professions[i]\n",
    "\n",
    "professions_dict"
   ]
  },
  {
   "cell_type": "code",
   "execution_count": null,
   "metadata": {
    "collapsed": false
   },
   "outputs": [],
   "source": []
  },
  {
   "cell_type": "code",
   "execution_count": null,
   "metadata": {
    "collapsed": true
   },
   "outputs": [],
   "source": []
  },
  {
   "cell_type": "code",
   "execution_count": null,
   "metadata": {
    "collapsed": true
   },
   "outputs": [],
   "source": []
  }
 ],
 "metadata": {
  "kernelspec": {
   "display_name": "Python 3",
   "language": "python",
   "name": "python3"
  },
  "language_info": {
   "codemirror_mode": {
    "name": "ipython",
    "version": 3
   },
   "file_extension": ".py",
   "mimetype": "text/x-python",
   "name": "python",
   "nbconvert_exporter": "python",
   "pygments_lexer": "ipython3",
   "version": "3.5.1"
  }
 },
 "nbformat": 4,
 "nbformat_minor": 0
}
