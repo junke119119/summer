{
 "cells": [
  {
   "cell_type": "code",
   "execution_count": 1,
   "metadata": {
    "collapsed": true
   },
   "outputs": [],
   "source": [
    "import sqlite3"
   ]
  },
  {
   "cell_type": "code",
   "execution_count": 2,
   "metadata": {
    "collapsed": false
   },
   "outputs": [],
   "source": [
    "# Create a new SQLite database\n",
    "sqlite_file = 'RMR_Calculation.sqlite'    # name of the sqlite database file\n",
    "table_name = 'Raw_data_to_calculate_RMR'  # name of the table to be created\n",
    "new_field = 'Patient_ID' # name of the column\n",
    "column_type = 'BLOB'  # column data type\n",
    "\n",
    "# Connecting to the database file\n",
    "conn = sqlite3.connect(sqlite_file)\n",
    "c = conn.cursor()\n",
    "\n",
    "# Creating a new SQLite table with 1 column\n",
    "c.execute('CREATE TABLE {tn} ({nf} {ft})'\\\n",
    "        .format(tn=table_name, nf=new_field, ft=column_type))\n",
    "\n",
    "\n",
    "# Committing changes and closing the connection to the database file\n",
    "conn.commit()\n",
    "conn.close()"
   ]
  },
  {
   "cell_type": "code",
   "execution_count": 3,
   "metadata": {
    "collapsed": false
   },
   "outputs": [],
   "source": [
    "sqlite_file = 'RMR_Calculation.sqlite'    # name of the sqlite database file\n",
    "table_name = 'Raw_data_to_calculate_RMR'  # name of the table to be created\n",
    "new_field = 'Patient_ID' # name of the column\n",
    "column_type = 'BLOB'  # column data type\n",
    "# Connecting to the database file\n",
    "conn = sqlite3.connect(sqlite_file)\n",
    "c = conn.cursor()\n",
    "\n",
    "# Add new column\n",
    "new_column1 = 'Age'\n",
    "c.execute(\"ALTER TABLE {tn} ADD COLUMN '{cn}' {ct}\"\\\n",
    "         .format(tn = table_name, cn = new_column1, ct = column_type))\n",
    "\n",
    "new_column2 = 'Sex'\n",
    "c.execute(\"ALTER TABLE {tn} ADD COLUMN '{cn}' {ct}\"\\\n",
    "         .format(tn = table_name, cn = new_column2, ct = column_type))\n",
    "\n",
    "new_column3 = 'Height (in)'\n",
    "c.execute(\"ALTER TABLE {tn} ADD COLUMN '{cn}' {ct}\"\\\n",
    "         .format(tn = table_name, cn = new_column3, ct = column_type))\n",
    "\n",
    "new_column4 = 'Height (cm)'\n",
    "c.execute(\"ALTER TABLE {tn} ADD COLUMN '{cn}' {ct}\"\\\n",
    "         .format(tn = table_name, cn = new_column4, ct = column_type))\n",
    "\n",
    "new_column5 = 'Weight (Ib)'\n",
    "c.execute(\"ALTER TABLE {tn} ADD COLUMN '{cn}' {ct}\"\\\n",
    "         .format(tn = table_name, cn = new_column5, ct = column_type))\n",
    "# Committing changes and closing the connection to the database file\n",
    "conn.commit()\n",
    "conn.close()"
   ]
  },
  {
   "cell_type": "code",
   "execution_count": 4,
   "metadata": {
    "collapsed": true
   },
   "outputs": [],
   "source": [
    "sqlite_file = 'RMR_Calculation.sqlite'    # name of the sqlite database file\n",
    "table_name = 'Raw_data_to_calculate_RMR'  # name of the table to be created\n",
    "new_field = 'Patient_ID' # name of the column\n",
    "column_type = 'BLOB'  # column data type\n",
    "# Connecting to the database file\n",
    "conn = sqlite3.connect(sqlite_file)\n",
    "c = conn.cursor()\n",
    "\n",
    "new_column6 = 'Weight (kg)'\n",
    "c.execute(\"ALTER TABLE {tn} ADD COLUMN '{cn}' {ct}\"\\\n",
    "         .format(tn = table_name, cn = new_column6, ct = column_type))\n",
    "\n",
    "new_column7 = 'Time (min)'\n",
    "c.execute(\"ALTER TABLE {tn} ADD COLUMN '{cn}' {ct}\"\\\n",
    "         .format(tn = table_name, cn = new_column7, ct = column_type))\n",
    "\n",
    "new_column8 = 'VO2/kg STPD (ml/kg/m)'\n",
    "c.execute(\"ALTER TABLE {tn} ADD COLUMN '{cn}' {ct}\"\\\n",
    "         .format(tn = table_name, cn = new_column8, ct = column_type))\n",
    "\n",
    "new_column9 = 'VO2 STPD (L/min)'\n",
    "c.execute(\"ALTER TABLE {tn} ADD COLUMN '{cn}' {ct}\"\\\n",
    "         .format(tn = table_name, cn = new_column9, ct = column_type))\n",
    "\n",
    "new_column10 = 'VO2 STPD (ml/min)'\n",
    "c.execute(\"ALTER TABLE {tn} ADD COLUMN '{cn}' {ct}\"\\\n",
    "         .format(tn = table_name, cn = new_column10, ct = column_type))\n",
    "\n",
    "new_column11 = 'VCO2 STPD (L/min)'\n",
    "c.execute(\"ALTER TABLE {tn} ADD COLUMN '{cn}' {ct}\"\\\n",
    "         .format(tn = table_name, cn = new_column11, ct = column_type))\n",
    "\n",
    "new_column12 = 'VCO2 STPD (ml/min)'\n",
    "c.execute(\"ALTER TABLE {tn} ADD COLUMN '{cn}' {ct}\"\\\n",
    "         .format(tn = table_name, cn = new_column12, ct = column_type))\n",
    "\n",
    "new_column13 = 'VE STPD (L/min)'\n",
    "c.execute(\"ALTER TABLE {tn} ADD COLUMN '{cn}' {ct}\"\\\n",
    "         .format(tn = table_name, cn = new_column13, ct = column_type))\n",
    "\n",
    "new_column14 = 'RQ'\n",
    "c.execute(\"ALTER TABLE {tn} ADD COLUMN '{cn}' {ct}\"\\\n",
    "         .format(tn = table_name, cn = new_column14, ct = column_type))\n",
    "\n",
    "new_column15 = 'RR (BPM)'\n",
    "c.execute(\"ALTER TABLE {tn} ADD COLUMN '{cn}' {ct}\"\\\n",
    "         .format(tn = table_name, cn = new_column15, ct = column_type))\n",
    "\n",
    "new_column16 = 'VE/VO2 (BT/ST)'\n",
    "c.execute(\"ALTER TABLE {tn} ADD COLUMN '{cn}' {ct}\"\\\n",
    "         .format(tn = table_name, cn = new_column16, ct = column_type))\n",
    "\n",
    "new_column17 = 'METS'\n",
    "c.execute(\"ALTER TABLE {tn} ADD COLUMN '{cn}' {ct}\"\\\n",
    "         .format(tn = table_name, cn = new_column17, ct = column_type))\n",
    "\n",
    "new_column18 = 'TM SPD(mph)'\n",
    "c.execute(\"ALTER TABLE {tn} ADD COLUMN '{cn}' {ct}\"\\\n",
    "         .format(tn = table_name, cn = new_column18, ct = column_type))\n",
    "\n",
    "new_column19 = 'Calculate Start Row'\n",
    "c.execute(\"ALTER TABLE {tn} ADD COLUMN '{cn}' {ct}\"\\\n",
    "         .format(tn = table_name, cn = new_column19, ct = column_type))\n",
    "\n",
    "new_column20 = 'Calcualte End Row'\n",
    "c.execute(\"ALTER TABLE {tn} ADD COLUMN '{cn}' {ct}\"\\\n",
    "         .format(tn = table_name, cn = new_column20, ct = column_type))\n",
    "\n",
    "new_column21 = 'Calcualted RMR'\n",
    "c.execute(\"ALTER TABLE {tn} ADD COLUMN '{cn}' {ct}\"\\\n",
    "         .format(tn = table_name, cn = new_column21, ct = column_type))\n",
    "\n",
    "# Committing changes and closing the connection to the database file\n",
    "conn.commit()\n",
    "conn.close()"
   ]
  },
  {
   "cell_type": "code",
   "execution_count": null,
   "metadata": {
    "collapsed": true
   },
   "outputs": [],
   "source": []
  }
 ],
 "metadata": {
  "kernelspec": {
   "display_name": "Python 3",
   "language": "python",
   "name": "python3"
  },
  "language_info": {
   "codemirror_mode": {
    "name": "ipython",
    "version": 3
   },
   "file_extension": ".py",
   "mimetype": "text/x-python",
   "name": "python",
   "nbconvert_exporter": "python",
   "pygments_lexer": "ipython3",
   "version": "3.5.1"
  }
 },
 "nbformat": 4,
 "nbformat_minor": 0
}
