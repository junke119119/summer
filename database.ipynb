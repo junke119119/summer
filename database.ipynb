{
 "cells": [
  {
   "cell_type": "code",
   "execution_count": 1,
   "metadata": {
    "collapsed": true
   },
   "outputs": [],
   "source": [
    "import sqlite3"
   ]
  },
  {
   "cell_type": "code",
   "execution_count": 2,
   "metadata": {
    "collapsed": false
   },
   "outputs": [
    {
     "ename": "OperationalError",
     "evalue": "table Raw_data_to_calculate_RMR already exists",
     "output_type": "error",
     "traceback": [
      "\u001b[1;31m---------------------------------------------------------------------------\u001b[0m",
      "\u001b[1;31mOperationalError\u001b[0m                          Traceback (most recent call last)",
      "\u001b[1;32m<ipython-input-2-b9a2056faa63>\u001b[0m in \u001b[0;36m<module>\u001b[1;34m()\u001b[0m\n\u001b[0;32m     10\u001b[0m \u001b[1;33m\u001b[0m\u001b[0m\n\u001b[0;32m     11\u001b[0m \u001b[1;31m# Creating a new SQLite table with 1 column\u001b[0m\u001b[1;33m\u001b[0m\u001b[1;33m\u001b[0m\u001b[0m\n\u001b[1;32m---> 12\u001b[1;33m \u001b[0mc\u001b[0m\u001b[1;33m.\u001b[0m\u001b[0mexecute\u001b[0m\u001b[1;33m(\u001b[0m\u001b[1;34m'CREATE TABLE {tn} ({nf} {ft})'\u001b[0m        \u001b[1;33m.\u001b[0m\u001b[0mformat\u001b[0m\u001b[1;33m(\u001b[0m\u001b[0mtn\u001b[0m\u001b[1;33m=\u001b[0m\u001b[0mtable_name\u001b[0m\u001b[1;33m,\u001b[0m \u001b[0mnf\u001b[0m\u001b[1;33m=\u001b[0m\u001b[0mnew_field\u001b[0m\u001b[1;33m,\u001b[0m \u001b[0mft\u001b[0m\u001b[1;33m=\u001b[0m\u001b[0mcolumn_type\u001b[0m\u001b[1;33m)\u001b[0m\u001b[1;33m)\u001b[0m\u001b[1;33m\u001b[0m\u001b[0m\n\u001b[0m\u001b[0;32m     13\u001b[0m \u001b[1;33m\u001b[0m\u001b[0m\n\u001b[0;32m     14\u001b[0m \u001b[1;31m# Add new column\u001b[0m\u001b[1;33m\u001b[0m\u001b[1;33m\u001b[0m\u001b[0m\n",
      "\u001b[1;31mOperationalError\u001b[0m: table Raw_data_to_calculate_RMR already exists"
     ]
    }
   ],
   "source": [
    "# Create a new SQLite database\n",
    "sqlite_file = 'RMR_Calculation.sqlite'    # name of the sqlite database file\n",
    "table_name = 'Raw_data_to_calculate_RMR'  # name of the table to be created\n",
    "new_field = 'Patient ID' # name of the column\n",
    "column_type = 'BLOB'  # column data type\n",
    "\n",
    "# Connecting to the database file\n",
    "conn = sqlite3.connect(sqlite_file)\n",
    "c = conn.cursor()\n",
    "\n",
    "# Creating a new SQLite table with 1 column\n",
    "c.execute('CREATE TABLE {tn} ({nf} {ft})'\\\n",
    "        .format(tn=table_name, nf=new_field, ft=column_type))\n",
    "\n",
    "\n",
    "# Committing changes and closing the connection to the database file\n",
    "conn.commit()\n",
    "conn.close()"
   ]
  },
  {
   "cell_type": "code",
   "execution_count": 4,
   "metadata": {
    "collapsed": false
   },
   "outputs": [
    {
     "ename": "OperationalError",
     "evalue": "near \"TABLERaw_data_to_calculate_RMR\": syntax error",
     "output_type": "error",
     "traceback": [
      "\u001b[1;31m---------------------------------------------------------------------------\u001b[0m",
      "\u001b[1;31mOperationalError\u001b[0m                          Traceback (most recent call last)",
      "\u001b[1;32m<ipython-input-4-3bd9818cc2f9>\u001b[0m in \u001b[0;36m<module>\u001b[1;34m()\u001b[0m\n\u001b[0;32m      5\u001b[0m \u001b[1;31m# Add new column\u001b[0m\u001b[1;33m\u001b[0m\u001b[1;33m\u001b[0m\u001b[0m\n\u001b[0;32m      6\u001b[0m \u001b[0mnew_column1\u001b[0m \u001b[1;33m=\u001b[0m \u001b[1;34m'Age'\u001b[0m\u001b[1;33m\u001b[0m\u001b[0m\n\u001b[1;32m----> 7\u001b[1;33m \u001b[0mc\u001b[0m\u001b[1;33m.\u001b[0m\u001b[0mexecute\u001b[0m\u001b[1;33m(\u001b[0m\u001b[1;34m\"ALTER TABLE{tn} ADD COLUMN '{cn}' {ct}\"\u001b[0m         \u001b[1;33m.\u001b[0m\u001b[0mformat\u001b[0m\u001b[1;33m(\u001b[0m\u001b[0mtn\u001b[0m \u001b[1;33m=\u001b[0m \u001b[0mtable_name\u001b[0m\u001b[1;33m,\u001b[0m \u001b[0mcn\u001b[0m \u001b[1;33m=\u001b[0m \u001b[0mnew_column1\u001b[0m\u001b[1;33m,\u001b[0m \u001b[0mct\u001b[0m \u001b[1;33m=\u001b[0m \u001b[0mcolumn_type\u001b[0m\u001b[1;33m)\u001b[0m\u001b[1;33m)\u001b[0m\u001b[1;33m\u001b[0m\u001b[0m\n\u001b[0m\u001b[0;32m      8\u001b[0m \u001b[1;33m\u001b[0m\u001b[0m\n\u001b[0;32m      9\u001b[0m \u001b[0mnew_column2\u001b[0m \u001b[1;33m=\u001b[0m \u001b[1;34m'Sex'\u001b[0m\u001b[1;33m\u001b[0m\u001b[0m\n",
      "\u001b[1;31mOperationalError\u001b[0m: near \"TABLERaw_data_to_calculate_RMR\": syntax error"
     ]
    }
   ],
   "source": [
    "# Connecting to the database file\n",
    "conn = sqlite3.connect(sqlite_file)\n",
    "c = conn.cursor()\n",
    "\n",
    "# Add new column\n",
    "new_column1 = 'Age'\n",
    "c.execute(\"ALTER TABLE{tn} ADD COLUMN '{cn}' {ct}\"\\\n",
    "         .format(tn = table_name, cn = new_column1, ct = column_type))\n",
    "\n",
    "new_column2 = 'Sex'\n",
    "c.execute(\"ALTER TABLE{tn} ADD COLUMN '{cn}' {ct}\"\\\n",
    "         .format(tn = table_name, cn = new_column2, ct = column_type))\n",
    "\n",
    "new_column3 = 'Height (in)'\n",
    "c.execute(\"ALTER TABLE{tn} ADD COLUMN '{cn}' {ct}\"\\\n",
    "         .format(tn = table_name, cn = new_column3, ct = column_type))\n",
    "\n",
    "new_column4 = 'Height (cm)'\n",
    "c.execute(\"ALTER TABLE{tn} ADD COLUMN '{cn}' {ct}\"\\\n",
    "         .format(tn = table_name, cn = new_column4, ct = column_type))\n",
    "\n",
    "new_column5 = 'Weight (Ib)'\n",
    "c.execute(\"ALTER TABLE{tn} ADD COLUMN '{cn}' {ct}\"\\\n",
    "         .format(tn = table_name, cn = new_column5, ct = column_type))\n",
    "\n",
    "new_column6 = 'Weight (kg)'\n",
    "c.execute(\"ALTER TABLE{tn} ADD COLUMN '{cn}' {ct}\"\\\n",
    "         .format(tn = table_name, cn = new_column6, ct = column_type))\n",
    "\n",
    "new_column7 = 'Time (min)'\n",
    "c.execute(\"ALTER TABLE{tn} ADD COLUMN '{cn}' {ct}\"\\\n",
    "         .format(tn = table_name, cn = new_column7, ct = column_type))\n",
    "\n",
    "new_column8 = 'VO2/kg STPD (ml/kg/m)'\n",
    "c.execute(\"ALTER TABLE{tn} ADD COLUMN '{cn}' {ct}\"\\\n",
    "         .format(tn = table_name, cn = new_column8, ct = column_type))\n",
    "\n",
    "new_column9 = 'VO2 STPD (L/min)'\n",
    "c.execute(\"ALTER TABLE{tn} ADD COLUMN '{cn}' {ct}\"\\\n",
    "         .format(tn = table_name, cn = new_column9, ct = column_type))\n",
    "\n",
    "new_column10 = 'VO2 STPD (ml/min)'\n",
    "c.execute(\"ALTER TABLE{tn} ADD COLUMN '{cn}' {ct}\"\\\n",
    "         .format(tn = table_name, cn = new_column10, ct = column_type))\n",
    "\n",
    "new_column11 = 'VCO2 STPD (L/min)'\n",
    "c.execute(\"ALTER TABLE{tn} ADD COLUMN '{cn}' {ct}\"\\\n",
    "         .format(tn = table_name, cn = new_column11, ct = column_type))\n",
    "\n",
    "new_column12 = 'VCO2 STPD (ml/min)'\n",
    "c.execute(\"ALTER TABLE{tn} ADD COLUMN '{cn}' {ct}\"\\\n",
    "         .format(tn = table_name, cn = new_column12, ct = column_type))\n",
    "\n",
    "new_column13 = 'VE STPD (L/min)'\n",
    "c.execute(\"ALTER TABLE{tn} ADD COLUMN '{cn}' {ct}\"\\\n",
    "         .format(tn = table_name, cn = new_column13, ct = column_type))\n",
    "\n",
    "new_column14 = 'RQ'\n",
    "c.execute(\"ALTER TABLE{tn} ADD COLUMN '{cn}' {ct}\"\\\n",
    "         .format(tn = table_name, cn = new_column14, ct = column_type))\n",
    "\n",
    "new_column15 = 'RR (BPM)'\n",
    "c.execute(\"ALTER TABLE{tn} ADD COLUMN '{cn}' {ct}\"\\\n",
    "         .format(tn = table_name, cn = new_column15, ct = column_type))\n",
    "\n",
    "new_column16 = 'VE/VO2 (BT/ST)'\n",
    "c.execute(\"ALTER TABLE{tn} ADD COLUMN '{cn}' {ct}\"\\\n",
    "         .format(tn = table_name, cn = new_column16, ct = column_type))\n",
    "\n",
    "new_column17 = 'METS'\n",
    "c.execute(\"ALTER TABLE{tn} ADD COLUMN '{cn}' {ct}\"\\\n",
    "         .format(tn = table_name, cn = new_column17, ct = column_type))\n",
    "\n",
    "new_column18 = 'TM SPD(mph)'\n",
    "c.execute(\"ALTER TABLE{tn} ADD COLUMN '{cn}' {ct}\"\\\n",
    "         .format(tn = table_name, cn = new_column18, ct = column_type))\n",
    "\n",
    "new_column19 = 'Calculate Start Row'\n",
    "c.execute(\"ALTER TABLE{tn} ADD COLUMN '{cn}' {ct}\"\\\n",
    "         .format(tn = table_name, cn = new_column19, ct = column_type))\n",
    "\n",
    "new_column20 = 'Calcualte End Row'\n",
    "c.execute(\"ALTER TABLE{tn} ADD COLUMN '{cn}' {ct}\"\\\n",
    "         .format(tn = table_name, cn = new_column20, ct = column_type))\n",
    "\n",
    "new_column21 = 'Calcualted RMR'\n",
    "c.execute(\"ALTER TABLE{tn} ADD COLUMN '{cn}' {ct}\"\\\n",
    "         .format(tn = table_name, cn = new_column21, ct = column_type))\n",
    "\n",
    "# Committing changes and closing the connection to the database file\n",
    "conn.commit()\n",
    "conn.close()"
   ]
  },
  {
   "cell_type": "code",
   "execution_count": null,
   "metadata": {
    "collapsed": true
   },
   "outputs": [],
   "source": []
  }
 ],
 "metadata": {
  "kernelspec": {
   "display_name": "Python 3",
   "language": "python",
   "name": "python3"
  },
  "language_info": {
   "codemirror_mode": {
    "name": "ipython",
    "version": 3
   },
   "file_extension": ".py",
   "mimetype": "text/x-python",
   "name": "python",
   "nbconvert_exporter": "python",
   "pygments_lexer": "ipython3",
   "version": "3.5.1"
  }
 },
 "nbformat": 4,
 "nbformat_minor": 0
}
